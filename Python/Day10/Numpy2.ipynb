{
 "cells": [
  {
   "cell_type": "code",
   "execution_count": 1,
   "id": "e6abde64",
   "metadata": {},
   "outputs": [],
   "source": [
    "import numpy as np \n"
   ]
  },
  {
   "cell_type": "code",
   "execution_count": 5,
   "id": "f356c1d5",
   "metadata": {},
   "outputs": [
    {
     "data": {
      "text/plain": [
       "array([ 1,  2,  3,  4,  5,  6,  7,  8,  9, 10])"
      ]
     },
     "execution_count": 5,
     "metadata": {},
     "output_type": "execute_result"
    }
   ],
   "source": [
    "a=np.arange(1,11)\n",
    "a"
   ]
  },
  {
   "cell_type": "code",
   "execution_count": 6,
   "id": "4ada23f8",
   "metadata": {},
   "outputs": [
    {
     "data": {
      "text/plain": [
       "array([[ 1,  2],\n",
       "       [ 3,  4],\n",
       "       [ 5,  6],\n",
       "       [ 7,  8],\n",
       "       [ 9, 10]])"
      ]
     },
     "execution_count": 6,
     "metadata": {},
     "output_type": "execute_result"
    }
   ],
   "source": [
    "a.reshape(5,2)"
   ]
  },
  {
   "cell_type": "code",
   "execution_count": 7,
   "id": "2ae48e9c",
   "metadata": {},
   "outputs": [
    {
     "data": {
      "text/plain": [
       "array([[6, 7, 7, 7, 6],\n",
       "       [5, 5, 2, 5, 1],\n",
       "       [1, 7, 3, 8, 2],\n",
       "       [1, 1, 1, 8, 8],\n",
       "       [5, 6, 1, 8, 9],\n",
       "       [7, 9, 5, 3, 6]])"
      ]
     },
     "execution_count": 7,
     "metadata": {},
     "output_type": "execute_result"
    }
   ],
   "source": [
    "b= np.random.randint(1,10,(6,5))\n",
    "b"
   ]
  },
  {
   "cell_type": "code",
   "execution_count": 9,
   "id": "920bfaba",
   "metadata": {},
   "outputs": [
    {
     "data": {
      "text/plain": [
       "array([[3, 4, 9],\n",
       "       [2, 4, 9],\n",
       "       [9, 2, 7]])"
      ]
     },
     "execution_count": 9,
     "metadata": {},
     "output_type": "execute_result"
    }
   ],
   "source": [
    "b= np.random.randint(1,10,(6,5))\n",
    "b.a+(3,3)\n",
    "b"
   ]
  },
  {
   "cell_type": "code",
   "execution_count": 11,
   "id": "8defc726",
   "metadata": {},
   "outputs": [
    {
     "data": {
      "text/plain": [
       "array([3, 4, 9, 2, 4, 9, 9, 2, 7])"
      ]
     },
     "execution_count": 11,
     "metadata": {},
     "output_type": "execute_result"
    }
   ],
   "source": [
    "b.reshape(-1)"
   ]
  },
  {
   "cell_type": "code",
   "execution_count": 12,
   "id": "0547f588",
   "metadata": {},
   "outputs": [
    {
     "data": {
      "text/plain": [
       "array([[3, 4, 9],\n",
       "       [2, 4, 9],\n",
       "       [9, 2, 7]])"
      ]
     },
     "execution_count": 12,
     "metadata": {},
     "output_type": "execute_result"
    }
   ],
   "source": [
    "b"
   ]
  },
  {
   "cell_type": "code",
   "execution_count": 13,
   "id": "d0f9ee95",
   "metadata": {},
   "outputs": [
    {
     "data": {
      "text/plain": [
       "array([3, 4, 9, 2, 4, 9, 9, 2, 7])"
      ]
     },
     "execution_count": 13,
     "metadata": {},
     "output_type": "execute_result"
    }
   ],
   "source": [
    "b.flatten()"
   ]
  },
  {
   "cell_type": "code",
   "execution_count": 14,
   "id": "03d42da7",
   "metadata": {},
   "outputs": [
    {
     "name": "stdout",
     "output_type": "stream",
     "text": [
      "[[3 4 9]\n",
      " [2 4 9]\n",
      " [9 2 7]]\n"
     ]
    },
    {
     "data": {
      "text/plain": [
       "array([[ 4,  5, 10],\n",
       "       [ 3,  5, 10],\n",
       "       [10,  3,  8]])"
      ]
     },
     "execution_count": 14,
     "metadata": {},
     "output_type": "execute_result"
    }
   ],
   "source": [
    "print(b)\n",
    "b+1"
   ]
  },
  {
   "cell_type": "code",
   "execution_count": 15,
   "id": "cd300d77",
   "metadata": {},
   "outputs": [
    {
     "name": "stdout",
     "output_type": "stream",
     "text": [
      "[[3 4 9]\n",
      " [2 4 9]\n",
      " [9 2 7]]\n"
     ]
    },
    {
     "data": {
      "text/plain": [
       "array([[2, 3, 8],\n",
       "       [1, 3, 8],\n",
       "       [8, 1, 6]])"
      ]
     },
     "execution_count": 15,
     "metadata": {},
     "output_type": "execute_result"
    }
   ],
   "source": [
    "print(b)\n",
    "b-1"
   ]
  },
  {
   "cell_type": "code",
   "execution_count": 16,
   "id": "252a7304",
   "metadata": {},
   "outputs": [
    {
     "name": "stdout",
     "output_type": "stream",
     "text": [
      "[[3 4 9]\n",
      " [2 4 9]\n",
      " [9 2 7]]\n"
     ]
    },
    {
     "data": {
      "text/plain": [
       "array([[ 9, 16, 81],\n",
       "       [ 4, 16, 81],\n",
       "       [81,  4, 49]], dtype=int32)"
      ]
     },
     "execution_count": 16,
     "metadata": {},
     "output_type": "execute_result"
    }
   ],
   "source": [
    "print(b)\n",
    "b**2"
   ]
  },
  {
   "cell_type": "code",
   "execution_count": 17,
   "id": "3edd77c1",
   "metadata": {},
   "outputs": [
    {
     "name": "stdout",
     "output_type": "stream",
     "text": [
      "[[3 4 9]\n",
      " [2 4 9]\n",
      " [9 2 7]]\n",
      "49\n",
      "2\n",
      "9\n"
     ]
    }
   ],
   "source": [
    "print(b)\n",
    "print(b.sum())\n",
    "print(b.min())\n",
    "print(b.max())"
   ]
  },
  {
   "cell_type": "code",
   "execution_count": 18,
   "id": "6bad0503",
   "metadata": {},
   "outputs": [
    {
     "name": "stdout",
     "output_type": "stream",
     "text": [
      "[[3 4 9]\n",
      " [2 4 9]\n",
      " [9 2 7]]\n",
      "[14 10 25]\n",
      "[2 2 7]\n",
      "[9 4 9]\n"
     ]
    }
   ],
   "source": [
    "print(b)\n",
    "print(b.sum(axis=0))\n",
    "print(b.min(axis=0))\n",
    "print(b.max(axis=0))"
   ]
  },
  {
   "cell_type": "code",
   "execution_count": 19,
   "id": "9e4c85af",
   "metadata": {},
   "outputs": [
    {
     "name": "stdout",
     "output_type": "stream",
     "text": [
      "[[3 4 9]\n",
      " [2 4 9]\n",
      " [9 2 7]]\n",
      "[16 15 18]\n",
      "[3 2 2]\n",
      "[9 9 9]\n"
     ]
    }
   ],
   "source": [
    "print(b)\n",
    "print(b.sum(axis=1))\n",
    "print(b.min(axis=1))\n",
    "print(b.max(axis=1))"
   ]
  },
  {
   "cell_type": "code",
   "execution_count": 20,
   "id": "e545fcc6",
   "metadata": {},
   "outputs": [
    {
     "data": {
      "text/plain": [
       "array([[1, 2, 3],\n",
       "       [4, 5, 6]])"
      ]
     },
     "execution_count": 20,
     "metadata": {},
     "output_type": "execute_result"
    }
   ],
   "source": [
    "a=np.arange(1,7).reshape(2,3)\n",
    "a"
   ]
  },
  {
   "cell_type": "code",
   "execution_count": 22,
   "id": "db0d8b3e",
   "metadata": {},
   "outputs": [
    {
     "data": {
      "text/plain": [
       "array([[11, 12, 13],\n",
       "       [14, 15, 16]])"
      ]
     },
     "execution_count": 22,
     "metadata": {},
     "output_type": "execute_result"
    }
   ],
   "source": [
    "b=np.arange(11,17).reshape(2,3)\n",
    "b"
   ]
  },
  {
   "cell_type": "code",
   "execution_count": 23,
   "id": "abb1e363",
   "metadata": {},
   "outputs": [
    {
     "data": {
      "text/plain": [
       "array([[12, 14, 16],\n",
       "       [18, 20, 22]])"
      ]
     },
     "execution_count": 23,
     "metadata": {},
     "output_type": "execute_result"
    }
   ],
   "source": [
    "print(a)\n",
    "print(b)\n",
    "a+b"
   ]
  },
  {
   "cell_type": "code",
   "execution_count": 24,
   "id": "e8818e83",
   "metadata": {},
   "outputs": [
    {
     "data": {
      "text/plain": [
       "array([[10, 10, 10],\n",
       "       [10, 10, 10]])"
      ]
     },
     "execution_count": 24,
     "metadata": {},
     "output_type": "execute_result"
    }
   ],
   "source": [
    "print(a)\n",
    "print(b)\n",
    "b-a"
   ]
  },
  {
   "cell_type": "code",
   "execution_count": 25,
   "id": "1ab314aa",
   "metadata": {},
   "outputs": [
    {
     "data": {
      "text/plain": [
       "array([[11, 24, 39],\n",
       "       [56, 75, 96]])"
      ]
     },
     "execution_count": 25,
     "metadata": {},
     "output_type": "execute_result"
    }
   ],
   "source": [
    "print(a)\n",
    "print(b)\n",
    "a*b\n"
   ]
  },
  {
   "cell_type": "code",
   "execution_count": 27,
   "id": "7eddc445",
   "metadata": {},
   "outputs": [
    {
     "name": "stdout",
     "output_type": "stream",
     "text": [
      "[[1 2 3]\n",
      " [4 5 6]]\n",
      "[[11 12 13]\n",
      " [14 15 16]]\n"
     ]
    },
    {
     "data": {
      "text/plain": [
       "array([[0, 0, 1],\n",
       "       [2, 0, 4]], dtype=int32)"
      ]
     },
     "execution_count": 27,
     "metadata": {},
     "output_type": "execute_result"
    }
   ],
   "source": [
    "print(a)\n",
    "print(b)\n",
    "b%a"
   ]
  },
  {
   "cell_type": "code",
   "execution_count": 28,
   "id": "2ec43924",
   "metadata": {},
   "outputs": [
    {
     "data": {
      "text/plain": [
       "array([[1, 2, 3],\n",
       "       [4, 2, 1],\n",
       "       [3, 1, 1],\n",
       "       [1, 3, 2],\n",
       "       [1, 1, 4]])"
      ]
     },
     "execution_count": 28,
     "metadata": {},
     "output_type": "execute_result"
    }
   ],
   "source": [
    "c=np.random.randint(1,5,(5,3))\n",
    "c"
   ]
  },
  {
   "cell_type": "code",
   "execution_count": 29,
   "id": "df306c25",
   "metadata": {},
   "outputs": [
    {
     "data": {
      "text/plain": [
       "array([1, 2, 3, 4])"
      ]
     },
     "execution_count": 29,
     "metadata": {},
     "output_type": "execute_result"
    }
   ],
   "source": [
    "np.unique(c)"
   ]
  },
  {
   "cell_type": "code",
   "execution_count": 32,
   "id": "19b3ce7f",
   "metadata": {},
   "outputs": [
    {
     "data": {
      "text/plain": [
       "array([[1, 2, 3],\n",
       "       [1, 2, 4],\n",
       "       [1, 1, 3],\n",
       "       [1, 2, 3],\n",
       "       [1, 1, 4]])"
      ]
     },
     "execution_count": 32,
     "metadata": {},
     "output_type": "execute_result"
    }
   ],
   "source": [
    "d=np.sort(c)\n",
    "d"
   ]
  },
  {
   "cell_type": "code",
   "execution_count": 33,
   "id": "1ebc2dd8",
   "metadata": {},
   "outputs": [
    {
     "data": {
      "text/plain": [
       "array([1, 2, 3, 4, 2, 1, 3, 1, 1, 1, 3, 2, 1, 1, 4, 1, 2, 3, 1, 2, 4, 1,\n",
       "       1, 3, 1, 2, 3, 1, 1, 4])"
      ]
     },
     "execution_count": 33,
     "metadata": {},
     "output_type": "execute_result"
    }
   ],
   "source": [
    "np.append(c,d)"
   ]
  },
  {
   "cell_type": "code",
   "execution_count": 36,
   "id": "84ca5bd3",
   "metadata": {},
   "outputs": [
    {
     "data": {
      "text/plain": [
       "array([[1, 2],\n",
       "       [3, 4]])"
      ]
     },
     "execution_count": 36,
     "metadata": {},
     "output_type": "execute_result"
    }
   ],
   "source": [
    "a=np.arange(1,5).reshape(2,2)\n",
    "a"
   ]
  },
  {
   "cell_type": "code",
   "execution_count": null,
   "id": "1e88bc03",
   "metadata": {},
   "outputs": [],
   "source": []
  },
  {
   "cell_type": "code",
   "execution_count": 37,
   "id": "93858b0a",
   "metadata": {},
   "outputs": [
    {
     "data": {
      "text/plain": [
       "array([[6, 7],\n",
       "       [8, 9]])"
      ]
     },
     "execution_count": 37,
     "metadata": {},
     "output_type": "execute_result"
    }
   ],
   "source": [
    "b=np.arange(6,10).reshape(2,2)\n",
    "b"
   ]
  },
  {
   "cell_type": "code",
   "execution_count": 38,
   "id": "cf38aa5c",
   "metadata": {},
   "outputs": [
    {
     "data": {
      "text/plain": [
       "array([[1, 3],\n",
       "       [2, 4]])"
      ]
     },
     "execution_count": 38,
     "metadata": {},
     "output_type": "execute_result"
    }
   ],
   "source": [
    "a.T #transpose"
   ]
  },
  {
   "cell_type": "code",
   "execution_count": 40,
   "id": "b3eb2500",
   "metadata": {},
   "outputs": [
    {
     "name": "stdout",
     "output_type": "stream",
     "text": [
      "[[1 2]\n",
      " [3 4]]\n",
      "[[6 7]\n",
      " [8 9]]\n"
     ]
    },
    {
     "data": {
      "text/plain": [
       "array([[22, 25],\n",
       "       [50, 57]])"
      ]
     },
     "execution_count": 40,
     "metadata": {},
     "output_type": "execute_result"
    }
   ],
   "source": [
    "print(a)\n",
    "print(b)\n",
    "a.dot(b)"
   ]
  },
  {
   "cell_type": "markdown",
   "id": "beb189bd",
   "metadata": {},
   "source": [
    "a=np.random.randint(1,31,(6,5))\n",
    "a"
   ]
  },
  {
   "cell_type": "code",
   "execution_count": 43,
   "id": "88ea9e12",
   "metadata": {},
   "outputs": [
    {
     "data": {
      "text/plain": [
       "array([[26, 20, 26, 18, 16],\n",
       "       [20, 11,  5, 12, 28],\n",
       "       [ 3, 16,  6, 17, 24],\n",
       "       [29,  7,  8, 27, 26],\n",
       "       [21, 26, 22, 22, 22],\n",
       "       [30,  5, 30, 22, 18]])"
      ]
     },
     "execution_count": 43,
     "metadata": {},
     "output_type": "execute_result"
    }
   ],
   "source": [
    "a=np.random.randint(1,31,(6,5)) \n",
    "a"
   ]
  },
  {
   "cell_type": "code",
   "execution_count": 44,
   "id": "458706e6",
   "metadata": {},
   "outputs": [
    {
     "data": {
      "text/plain": [
       "5"
      ]
     },
     "execution_count": 44,
     "metadata": {},
     "output_type": "execute_result"
    }
   ],
   "source": [
    "a[1,2]"
   ]
  },
  {
   "cell_type": "code",
   "execution_count": 47,
   "id": "552fb81b",
   "metadata": {},
   "outputs": [
    {
     "data": {
      "text/plain": [
       "array([[16,  6],\n",
       "       [ 7,  8]])"
      ]
     },
     "execution_count": 47,
     "metadata": {},
     "output_type": "execute_result"
    }
   ],
   "source": [
    "a[2:4,1:3]"
   ]
  },
  {
   "cell_type": "code",
   "execution_count": null,
   "id": "3c1576c1",
   "metadata": {},
   "outputs": [],
   "source": []
  },
  {
   "cell_type": "code",
   "execution_count": 45,
   "id": "fd9dabf5",
   "metadata": {},
   "outputs": [
    {
     "data": {
      "text/plain": [
       "array([22, 22, 22])"
      ]
     },
     "execution_count": 45,
     "metadata": {},
     "output_type": "execute_result"
    }
   ],
   "source": [
    "a[4,2:]"
   ]
  },
  {
   "cell_type": "code",
   "execution_count": 46,
   "id": "66e44984",
   "metadata": {},
   "outputs": [
    {
     "data": {
      "text/plain": [
       "array([[30,  5, 30, 22, 18],\n",
       "       [21, 26, 22, 22, 22],\n",
       "       [29,  7,  8, 27, 26],\n",
       "       [ 3, 16,  6, 17, 24],\n",
       "       [20, 11,  5, 12, 28],\n",
       "       [26, 20, 26, 18, 16]])"
      ]
     },
     "execution_count": 46,
     "metadata": {},
     "output_type": "execute_result"
    }
   ],
   "source": [
    "a[::-1] #reverse the array"
   ]
  },
  {
   "cell_type": "code",
   "execution_count": 48,
   "id": "c302f125",
   "metadata": {},
   "outputs": [
    {
     "name": "stdout",
     "output_type": "stream",
     "text": [
      "[[26 20 26 18 16]\n",
      " [20 11  5 12 28]\n",
      " [ 3 16  6 17 24]\n",
      " [29  7  8 27 26]\n",
      " [21 26 22 22 22]\n",
      " [30  5 30 22 18]]\n"
     ]
    }
   ],
   "source": [
    "print(a)"
   ]
  },
  {
   "cell_type": "code",
   "execution_count": 49,
   "id": "afc379bb",
   "metadata": {},
   "outputs": [
    {
     "data": {
      "text/plain": [
       "array([11,  5,  3, 17, 29,  7, 27, 21,  5])"
      ]
     },
     "execution_count": 49,
     "metadata": {},
     "output_type": "execute_result"
    }
   ],
   "source": [
    "a[a%2==1]"
   ]
  },
  {
   "cell_type": "code",
   "execution_count": 50,
   "id": "b933cb14",
   "metadata": {},
   "outputs": [
    {
     "data": {
      "text/plain": [
       "array([26, 20, 26, 18, 16, 20, 12, 28, 16,  6, 24,  8, 26, 26, 22, 22, 22,\n",
       "       30, 30, 22, 18])"
      ]
     },
     "execution_count": 50,
     "metadata": {},
     "output_type": "execute_result"
    }
   ],
   "source": [
    "a[a%2==0]"
   ]
  },
  {
   "cell_type": "code",
   "execution_count": 51,
   "id": "b0eb463b",
   "metadata": {},
   "outputs": [],
   "source": [
    "a[a%2==1]=9"
   ]
  },
  {
   "cell_type": "code",
   "execution_count": 52,
   "id": "f4e47aa2",
   "metadata": {},
   "outputs": [
    {
     "name": "stdout",
     "output_type": "stream",
     "text": [
      "[[26 20 26 18 16]\n",
      " [20  9  9 12 28]\n",
      " [ 9 16  6  9 24]\n",
      " [ 9  9  8  9 26]\n",
      " [ 9 26 22 22 22]\n",
      " [30  9 30 22 18]]\n"
     ]
    }
   ],
   "source": [
    "print(a)"
   ]
  },
  {
   "cell_type": "code",
   "execution_count": 53,
   "id": "20b9b96f",
   "metadata": {},
   "outputs": [
    {
     "data": {
      "text/plain": [
       "array([[False, False, False, False, False],\n",
       "       [False,  True,  True, False, False],\n",
       "       [ True, False, False,  True, False],\n",
       "       [ True,  True, False,  True, False],\n",
       "       [ True, False, False, False, False],\n",
       "       [False,  True, False, False, False]])"
      ]
     },
     "execution_count": 53,
     "metadata": {},
     "output_type": "execute_result"
    }
   ],
   "source": [
    "a%2==1"
   ]
  },
  {
   "cell_type": "code",
   "execution_count": null,
   "id": "6dc65e23",
   "metadata": {},
   "outputs": [],
   "source": []
  },
  {
   "cell_type": "code",
   "execution_count": 42,
   "id": "746b4c2c",
   "metadata": {},
   "outputs": [
    {
     "data": {
      "text/plain": [
       "20"
      ]
     },
     "execution_count": 42,
     "metadata": {},
     "output_type": "execute_result"
    }
   ],
   "source": []
  },
  {
   "cell_type": "code",
   "execution_count": null,
   "id": "1ae68b53",
   "metadata": {},
   "outputs": [],
   "source": []
  },
  {
   "cell_type": "code",
   "execution_count": null,
   "id": "254314d1",
   "metadata": {},
   "outputs": [],
   "source": []
  },
  {
   "cell_type": "code",
   "execution_count": null,
   "id": "24baa02d",
   "metadata": {},
   "outputs": [],
   "source": []
  },
  {
   "cell_type": "code",
   "execution_count": null,
   "id": "c9acdd49",
   "metadata": {},
   "outputs": [],
   "source": []
  },
  {
   "cell_type": "code",
   "execution_count": null,
   "id": "c19bf500",
   "metadata": {},
   "outputs": [],
   "source": []
  }
 ],
 "metadata": {
  "kernelspec": {
   "display_name": "Python 3 (ipykernel)",
   "language": "python",
   "name": "python3"
  },
  "language_info": {
   "codemirror_mode": {
    "name": "ipython",
    "version": 3
   },
   "file_extension": ".py",
   "mimetype": "text/x-python",
   "name": "python",
   "nbconvert_exporter": "python",
   "pygments_lexer": "ipython3",
   "version": "3.9.13"
  }
 },
 "nbformat": 4,
 "nbformat_minor": 5
}
