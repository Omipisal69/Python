{
 "cells": [
  {
   "cell_type": "code",
   "execution_count": 1,
   "id": "dfa343b8",
   "metadata": {},
   "outputs": [],
   "source": [
    "import re "
   ]
  },
  {
   "cell_type": "code",
   "execution_count": 4,
   "id": "ded54ecb",
   "metadata": {},
   "outputs": [
    {
     "name": "stdout",
     "output_type": "stream",
     "text": [
      "['o', 'o', 'o', 'o']\n",
      "<re.Match object; span=(12, 13), match='o'>\n",
      "['The quick br', 'un f', 'x jumps ', 'ver the lazy d', 'g.']\n",
      "The quick brooun foox jumps oover the lazy doog.\n",
      "<re.Match object; span=(12, 13), match='o'>\n",
      "<re.Match object; span=(17, 18), match='o'>\n",
      "<re.Match object; span=(26, 27), match='o'>\n",
      "<re.Match object; span=(41, 42), match='o'>\n",
      "['o', 'o', 'o', 'o']\n",
      "<re.Match object; span=(12, 13), match='o'>\n",
      "['The quick br', 'un f', 'x jumps ', 'ver the lazy d', 'g.']\n",
      "The quick brooun foox jumps oover the lazy doog.\n",
      "<re.Match object; span=(12, 13), match='o'>\n",
      "<re.Match object; span=(17, 18), match='o'>\n",
      "<re.Match object; span=(26, 27), match='o'>\n",
      "<re.Match object; span=(41, 42), match='o'>\n"
     ]
    }
   ],
   "source": [
    "s=\"The quick broun fox jumps over the lazy dog.\"\n",
    "print(re.findall('o',s))\n",
    "print(re.search('o',s))\n",
    "print(re.split('o',s))\n",
    "print(re.sub('o',\"oo\",s))\n",
    "\n",
    "for i in re.finditer('o',s):\n",
    "    print(i)\n",
    "    \n",
    "pat=re.compile(r'o')  \n",
    "print(re.findall(pat,s))\n",
    "print(re.search(pat,s))\n",
    "print(re.split(pat,s))\n",
    "print(re.sub(pat,\"oo\",s))\n",
    "\n",
    "for i in re.finditer(pat,s):\n",
    "    print(i)"
   ]
  },
  {
   "cell_type": "code",
   "execution_count": 7,
   "id": "9efb920a",
   "metadata": {},
   "outputs": [],
   "source": [
    "s=\"The quick broun fox jumps over the lazy dog.\"\n",
    "pat=re.compile(r'^The')  \n",
    "for i in re.finditer(pat,s):\n",
    "    print(i)"
   ]
  },
  {
   "cell_type": "code",
   "execution_count": 8,
   "id": "8e8796cb",
   "metadata": {},
   "outputs": [
    {
     "name": "stdout",
     "output_type": "stream",
     "text": [
      "<re.Match object; span=(40, 43), match='dog'>\n"
     ]
    }
   ],
   "source": [
    "s=\"The quick broun fox jumps over the lazy dog\"\n",
    "pat=re.compile(r'dog$')  \n",
    "for i in re.finditer(pat,s):\n",
    "    print(i)"
   ]
  },
  {
   "cell_type": "code",
   "execution_count": 9,
   "id": "60367161",
   "metadata": {},
   "outputs": [
    {
     "name": "stdout",
     "output_type": "stream",
     "text": [
      "<re.Match object; span=(40, 45), match='dogpp'>\n"
     ]
    }
   ],
   "source": [
    "s=\"The quick broun fox jumps over the lazy dogpp\"\n",
    "pat=re.compile(r'dog..$')  \n",
    "for i in re.finditer(pat,s):\n",
    "    print(i)"
   ]
  },
  {
   "cell_type": "code",
   "execution_count": 11,
   "id": "c0e3b0de",
   "metadata": {},
   "outputs": [
    {
     "name": "stdout",
     "output_type": "stream",
     "text": [
      "<re.Match object; span=(16, 19), match='fox'>\n",
      "<re.Match object; span=(31, 34), match='fee'>\n",
      "<re.Match object; span=(44, 47), match='fea'>\n"
     ]
    }
   ],
   "source": [
    "s=\"The quick broun fox jumps over fee the lazy fea dogpp\"\n",
    "pat=re.compile(r'f..')  \n",
    "for i in re.finditer(pat,s):\n",
    "    print(i)"
   ]
  },
  {
   "cell_type": "code",
   "execution_count": 12,
   "id": "d64a19da",
   "metadata": {},
   "outputs": [
    {
     "name": "stdout",
     "output_type": "stream",
     "text": [
      "<re.Match object; span=(4, 9), match='quick'>\n"
     ]
    }
   ],
   "source": [
    "s=\"The quick broun fox jumps over fee the lazy fea dogpp\"\n",
    "pat=re.compile(r'q.+k')  \n",
    "for i in re.finditer(pat,s):\n",
    "    print(i)"
   ]
  },
  {
   "cell_type": "code",
   "execution_count": 16,
   "id": "44cbec8e",
   "metadata": {},
   "outputs": [
    {
     "name": "stdout",
     "output_type": "stream",
     "text": [
      "<re.Match object; span=(40, 44), match=' 456'>\n",
      "<re.Match object; span=(48, 52), match=' 345'>\n"
     ]
    }
   ],
   "source": [
    "s=\"The quick 11 broun fox 12 jumps over fee 456 the 34567 lazy fea dogpp\"\n",
    "pat=re.compile(r'\\d{5} | \\d{3}')  \n",
    "for i in re.finditer(pat,s):\n",
    "    print(i)"
   ]
  },
  {
   "cell_type": "code",
   "execution_count": 17,
   "id": "40a70ad2",
   "metadata": {},
   "outputs": [
    {
     "name": "stdout",
     "output_type": "stream",
     "text": [
      "<re.Match object; span=(30, 33), match='s_o'>\n"
     ]
    }
   ],
   "source": [
    "s=\"The quick 11 broun fox 12 jumps_over fee 456_34567 lazy fea dogpp\"\n",
    "pat=re.compile(r'[a-z]_[a-z]')  \n",
    "for i in re.finditer(pat,s):\n",
    "    print(i)"
   ]
  },
  {
   "cell_type": "code",
   "execution_count": 18,
   "id": "b765b5ce",
   "metadata": {},
   "outputs": [
    {
     "name": "stdout",
     "output_type": "stream",
     "text": [
      "<re.Match object; span=(43, 46), match='6_3'>\n"
     ]
    }
   ],
   "source": [
    "s=\"The quick 11 broun fox 12 jumps_over fee 456_34567 lazy fea dogpp\"\n",
    "pat=re.compile(r'[0-9]_[0-9]')  \n",
    "for i in re.finditer(pat,s):\n",
    "    print(i)"
   ]
  },
  {
   "cell_type": "code",
   "execution_count": 19,
   "id": "639abcaa",
   "metadata": {},
   "outputs": [
    {
     "name": "stdout",
     "output_type": "stream",
     "text": [
      "<re.Match object; span=(30, 33), match='s_o'>\n",
      "<re.Match object; span=(43, 46), match='6_3'>\n"
     ]
    }
   ],
   "source": [
    "s=\"The quick 11 broun fox 12 jumps_over fee 456_34567 lazy fea dogpp\"\n",
    "pat=re.compile(r'[a-z0-9]_[a-z0-9]')  \n",
    "for i in re.finditer(pat,s):\n",
    "    print(i)"
   ]
  },
  {
   "cell_type": "code",
   "execution_count": 25,
   "id": "3b41c58c",
   "metadata": {},
   "outputs": [
    {
     "name": "stdout",
     "output_type": "stream",
     "text": [
      "<re.Match object; span=(19, 30), match='466-845-887'>\n",
      "<re.Match object; span=(38, 49), match='456-123-867'>\n",
      "<re.Match object; span=(65, 76), match='999-345-867'>\n"
     ]
    }
   ],
   "source": [
    "s=\"The quick 11 broun 466-845-887 fox 12 456-123-867 jumps_over fee 999-345-867 lazy fea dogpp\"\n",
    "pat=re.compile(r'\\d{3}-\\d{3}-\\d{3}')  \n",
    "for i in re.finditer(pat,s):\n",
    "    print(i)"
   ]
  },
  {
   "cell_type": "code",
   "execution_count": 26,
   "id": "8849639c",
   "metadata": {},
   "outputs": [
    {
     "name": "stdout",
     "output_type": "stream",
     "text": [
      "['466-845-887', '456-123-867', '999-345-867']\n"
     ]
    }
   ],
   "source": [
    "s=\"The quick 11 broun 466-845-887 fox 12 456-123-867 jumps_over fee 999-345-867 lazy fea dogpp\"\n",
    "pat=re.compile(r'\\d{3}-\\d{3}-\\d{3}')  \n",
    "print(re.findall(pat,s))\n",
    " "
   ]
  },
  {
   "cell_type": "code",
   "execution_count": null,
   "id": "75ab2c82",
   "metadata": {},
   "outputs": [],
   "source": [
    "[^a-zA-Z0-9.] \n",
    "ab*?\n",
    "ab+?\n",
    "ab{3}\n",
    "^[a-z]+_[a-z]+$\n",
    "^[a-zA-Z0-9_]*\n",
    "([0-9]{1,3})\n",
    "(\\d{4})-(\\d{1,2})-(\\d{1,2})"
   ]
  },
  {
   "cell_type": "code",
   "execution_count": null,
   "id": "e77546fd",
   "metadata": {},
   "outputs": [],
   "source": []
  },
  {
   "cell_type": "code",
   "execution_count": null,
   "id": "7ed229fc",
   "metadata": {},
   "outputs": [],
   "source": []
  },
  {
   "cell_type": "code",
   "execution_count": null,
   "id": "4e1d52ca",
   "metadata": {},
   "outputs": [],
   "source": []
  },
  {
   "cell_type": "code",
   "execution_count": null,
   "id": "0bfefa82",
   "metadata": {},
   "outputs": [],
   "source": []
  },
  {
   "cell_type": "code",
   "execution_count": null,
   "id": "a95b6986",
   "metadata": {},
   "outputs": [],
   "source": []
  },
  {
   "cell_type": "code",
   "execution_count": null,
   "id": "d0694fc2",
   "metadata": {},
   "outputs": [],
   "source": []
  },
  {
   "cell_type": "code",
   "execution_count": null,
   "id": "30f2fb4e",
   "metadata": {},
   "outputs": [],
   "source": []
  },
  {
   "cell_type": "code",
   "execution_count": null,
   "id": "d7d770f6",
   "metadata": {},
   "outputs": [],
   "source": []
  },
  {
   "cell_type": "code",
   "execution_count": null,
   "id": "76d9f750",
   "metadata": {},
   "outputs": [],
   "source": []
  },
  {
   "cell_type": "code",
   "execution_count": null,
   "id": "fbb75552",
   "metadata": {},
   "outputs": [],
   "source": []
  }
 ],
 "metadata": {
  "kernelspec": {
   "display_name": "Python 3 (ipykernel)",
   "language": "python",
   "name": "python3"
  },
  "language_info": {
   "codemirror_mode": {
    "name": "ipython",
    "version": 3
   },
   "file_extension": ".py",
   "mimetype": "text/x-python",
   "name": "python",
   "nbconvert_exporter": "python",
   "pygments_lexer": "ipython3",
   "version": "3.9.13"
  }
 },
 "nbformat": 4,
 "nbformat_minor": 5
}
